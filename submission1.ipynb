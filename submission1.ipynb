{
 "cells": [
  {
   "cell_type": "code",
   "execution_count": null,
   "id": "bc83c0e2-2527-4424-bd9e-38f7c5a7ab0a",
   "metadata": {},
   "outputs": [],
   "source": [
    "import pandas as pd\n",
    "import numpy as np\n",
    "from sklearn.model_selection import train_test_split\n",
    "from sklearn.metrics import roc_auc_score,accuracy_score\n",
    "from sklearn.tree import DecisionTreeClassifier"
   ]
  },
  {
   "cell_type": "code",
   "execution_count": null,
   "id": "1180c844-c2db-4b5d-b580-e579b9a5b5cf",
   "metadata": {},
   "outputs": [],
   "source": [
    "train=pd.read_csv(r\"C:\\playground-series-s4e3\\train.csv\", index_col=0)\n",
    "test=pd.read_csv(r\"C:\\playground-series-s4e3\\test.csv\", index_col=0)\n",
    "test_cop=pd.read_csv(r\"C:\\playground-series-s4e3\\test.csv\")\n",
    "\n",
    "x=train.drop(columns=['Pastry','Z_Scratch','K_Scatch','Stains','Dirtiness','Bumps','Other_Faults'])\n",
    "y=train[['Pastry','Z_Scratch','K_Scatch','Stains','Dirtiness','Bumps','Other_Faults']]\n",
    "\n",
    "x_train,x_test,y_train,y_test=train_test_split(x,y,test_size=0.2,random_state=42)\n",
    "\n",
    "model=DecisionTreeClassifier(criterion='gini', max_depth=5)\n",
    "\n",
    "columns=['Pastry','Z_Scratch','K_Scatch','Stains','Dirtiness','Bumps','Other_Faults']\n",
    "\n",
    "submit=pd.DataFrame()\n",
    "submit.insert(0,'id',test_cop['id'])\n",
    "#submit.drop('0',axis=1)\n",
    "\n",
    "for column in columns:\n",
    "    model.fit(x_train,y_train[column])\n",
    "    submit[column]=model.predict_proba(test)[:,1]\n",
    "\n",
    "submit.to_csv(r\"C:\\playground-series-s4e3\\submit.csv\", index=False)"
   ]
  }
 ],
 "metadata": {
  "kernelspec": {
   "display_name": "Python 3 (ipykernel)",
   "language": "python",
   "name": "python3"
  },
  "language_info": {
   "codemirror_mode": {
    "name": "ipython",
    "version": 3
   },
   "file_extension": ".py",
   "mimetype": "text/x-python",
   "name": "python",
   "nbconvert_exporter": "python",
   "pygments_lexer": "ipython3",
   "version": "3.12.4"
  }
 },
 "nbformat": 4,
 "nbformat_minor": 5
}
