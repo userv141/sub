{
 "cells": [
  {
   "cell_type": "code",
   "execution_count": 1,
   "id": "343e9e62-4d75-424d-83ec-b661bbe6a17c",
   "metadata": {},
   "outputs": [],
   "source": [
    "import pandas as pd\n",
    "import numpy as np\n",
    "from sklearn.model_selection import train_test_split\n",
    "from sklearn.metrics import roc_auc_score,accuracy_score\n",
    "from sklearn.ensemble import RandomForestClassifier"
   ]
  },
  {
   "cell_type": "code",
   "execution_count": 3,
   "id": "2c19e074-51c1-417c-9de8-5e76f3c05a58",
   "metadata": {},
   "outputs": [],
   "source": [
    "train=pd.read_csv(r\"C:\\playground-series-s4e3\\train.csv\", index_col=0)\n",
    "test=pd.read_csv(r\"C:\\playground-series-s4e3\\test.csv\", index_col=0)\n",
    "test_cop=pd.read_csv(r\"C:\\playground-series-s4e3\\test.csv\")\n",
    "\n",
    "train['X_dif']=train['X_Maximum']-train['X_Minimum']\n",
    "train['Y_dif']=train['Y_Maximum']-train['Y_Minimum']\n",
    "train['Luminosity_dif']=train['Maximum_of_Luminosity']-train['Minimum_of_Luminosity']\n",
    "train=train.drop(columns=['X_Maximum','X_Minimum','Y_Maximum','Y_Minimum','Maximum_of_Luminosity','Minimum_of_Luminosity'],axis=1)\n",
    "test['X_dif']=test['X_Maximum']-test['X_Minimum']\n",
    "test['Y_dif']=test['Y_Maximum']-test['Y_Minimum']\n",
    "test['Luminosity_dif']=test['Maximum_of_Luminosity']-test['Minimum_of_Luminosity']\n",
    "test=test.drop(columns=['X_Maximum','X_Minimum','Y_Maximum','Y_Minimum','Maximum_of_Luminosity','Minimum_of_Luminosity'],axis=1)           \n",
    "\n",
    "x=train.drop(columns=['Pastry','Z_Scratch','K_Scatch','Stains','Dirtiness','Bumps','Other_Faults'])\n",
    "y=train[['Pastry','Z_Scratch','K_Scatch','Stains','Dirtiness','Bumps','Other_Faults']]\n",
    "\n",
    "x_train,x_test,y_train,y_test=train_test_split(x,y,test_size=0.2,random_state=42)\n",
    "\n",
    "model=RandomForestClassifier(criterion='entropy',  max_depth=6, random_state=2571)\n",
    "\n",
    "columns=['Pastry','Z_Scratch','K_Scatch','Stains','Dirtiness','Bumps','Other_Faults']\n",
    "\n",
    "submit=pd.DataFrame()\n",
    "submit.insert(0,'id',test_cop['id'])\n",
    "\n",
    "for column in columns:\n",
    "    model.fit(x_train,y_train[column])\n",
    "    submit[column]=model.predict_proba(test)[:,1]\n",
    "\n",
    "submit.to_csv(r\"C:\\playground-series-s4e3\\submit54.csv\", index=False)"
   ]
  },
  {
   "cell_type": "code",
   "execution_count": null,
   "id": "6d0299bf-c7ba-43c1-8c72-5386908427c4",
   "metadata": {},
   "outputs": [],
   "source": []
  }
 ],
 "metadata": {
  "kernelspec": {
   "display_name": "Python 3 (ipykernel)",
   "language": "python",
   "name": "python3"
  },
  "language_info": {
   "codemirror_mode": {
    "name": "ipython",
    "version": 3
   },
   "file_extension": ".py",
   "mimetype": "text/x-python",
   "name": "python",
   "nbconvert_exporter": "python",
   "pygments_lexer": "ipython3",
   "version": "3.12.4"
  }
 },
 "nbformat": 4,
 "nbformat_minor": 5
}
